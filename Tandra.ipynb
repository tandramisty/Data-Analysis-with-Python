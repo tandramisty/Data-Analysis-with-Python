{
 "cells": [
  {
   "cell_type": "code",
   "execution_count": 3,
   "id": "155790ba-11be-4887-b3e2-a09dcbdfe146",
   "metadata": {},
   "outputs": [
    {
     "name": "stdout",
     "output_type": "stream",
     "text": [
      "Hello World\n"
     ]
    }
   ],
   "source": [
    "#1.Write a function that takes a sentence as an input parameter and replaces the first letter of\n",
    "every word with the corresponding uppercase letter and the rest lowercase without using builtin functions.\n",
    "\n",
    "def capitalize_sentence(sentence):\n",
    "    result = ''\n",
    "    capitalize_next = True\n",
    "\n",
    "    for ch in sentence:\n",
    "        if 'A' <= ch <= 'Z' or 'a' <= ch <= 'z':\n",
    "            if capitalize_next:\n",
    "                if 'a' <= ch <= 'z':\n",
    "                    ch = chr(ord(ch) - 32)\n",
    "                capitalize_next = False\n",
    "            else:\n",
    "                if 'A' <= ch <= 'Z':\n",
    "                    ch = chr(ord(ch) + 32)\n",
    "        else:\n",
    "            capitalize_next = True\n",
    "\n",
    "        result += ch\n",
    "\n",
    "    return result\n",
    "\n",
    "print(capitalize_sentence(\"heLLo wORLD\"))"
   ]
  },
  {
   "cell_type": "code",
   "execution_count": 12,
   "id": "3072dd8d-81c6-4d49-bb22-c900cc3ef60a",
   "metadata": {},
   "outputs": [
    {
     "name": "stdout",
     "output_type": "stream",
     "text": [
      "3\n"
     ]
    }
   ],
   "source": [
    "#2.Count the number of vowels in a string.\n",
    "\n",
    "def count_vowels(text):\n",
    "    vowels = ['a', 'e', 'i', 'o', 'u',\n",
    "              'A', 'E', 'I', 'O', 'U']\n",
    "    count = 0\n",
    "\n",
    "    for ch in text:\n",
    "        for v in vowels:\n",
    "            if ch == v:\n",
    "                count += 1\n",
    "                break  \n",
    "\n",
    "    return count\n",
    "   \n",
    "print(count_vowels(\"HELLO world\"))"
   ]
  },
  {
   "cell_type": "code",
   "execution_count": 9,
   "id": "398a768a-26c9-438c-be98-6e88a62715f0",
   "metadata": {},
   "outputs": [
    {
     "name": "stdout",
     "output_type": "stream",
     "text": [
      "3\n"
     ]
    }
   ],
   "source": [
    "#2.Count the number of vowels in a string.\n",
    "\n",
    "def count_vowels(text):\n",
    "    vowels = ['a', 'e', 'i', 'o', 'u',\n",
    "              'A', 'E', 'I', 'O', 'U']\n",
    "    count = 0\n",
    "\n",
    "    for ch in text:\n",
    "        for v in vowels:\n",
    "            if ch == v:\n",
    "                count += 1\n",
    "                break  \n",
    "\n",
    "    return count\n",
    "    \n",
    "print(count_vowels(\"HELLO world\"))"
   ]
  },
  {
   "cell_type": "code",
   "execution_count": 13,
   "id": "b7ac9d8b-df4d-40a7-be53-a7fb1eb09893",
   "metadata": {},
   "outputs": [
    {
     "name": "stdout",
     "output_type": "stream",
     "text": [
      "A\n"
     ]
    }
   ],
   "source": [
    "#3.Write a program that simulates a grading system:\n",
    "• If marks ≥ 90: Grade A\n",
    "• If marks ≥ 75: Grade B\n",
    "• If marks ≥ 60: Grade C\n",
    "• Else: Grade F\n",
    "\n",
    "def grading_system(marks):\n",
    "    if marks >= 90:\n",
    "        grade = 'A'\n",
    "    elif marks >= 75:\n",
    "        grade = 'B'\n",
    "    elif marks >= 60:\n",
    "        grade = 'C'\n",
    "    else:\n",
    "        grade = 'F'\n",
    "    \n",
    "    return grade\n",
    "    \n",
    "print( grading_system(92))"
   ]
  },
  {
   "cell_type": "code",
   "execution_count": 14,
   "id": "98b52745-b85a-42fb-97d5-44366f38f0ce",
   "metadata": {},
   "outputs": [
    {
     "name": "stdout",
     "output_type": "stream",
     "text": [
      "Prime numbers between 1 and 100:\n",
      "2 3 5 7 11 13 17 19 23 29 31 37 41 43 47 53 59 61 67 71 73 79 83 89 97 "
     ]
    }
   ],
   "source": [
    "#4.How do you use a for loop to print all prime numbers between 1 and 100?\n",
    "\n",
    "def print_primes_upto_100():\n",
    "    for num in range(2, 101):\n",
    "        is_prime = True\n",
    "        for i in range(2, num):\n",
    "            if num % i == 0:\n",
    "                is_prime = False\n",
    "                break\n",
    "        if is_prime:\n",
    "            print(num, end=' ')\n",
    "\n",
    "print(\"Prime numbers between 1 and 100:\")\n",
    "print_primes_upto_100()"
   ]
  },
  {
   "cell_type": "code",
   "execution_count": 15,
   "id": "f8ea69cd-db5d-4fb3-b848-2253555690d4",
   "metadata": {},
   "outputs": [
    {
     "name": "stdout",
     "output_type": "stream",
     "text": [
      "        1   \n",
      "      1   1   \n",
      "    1   2   1   \n",
      "  1   3   3   1   \n",
      "1   4   6   4   1   \n"
     ]
    }
   ],
   "source": [
    "#5.How do you use nested loops to generate Pascal’s Triangle up to n rows?\n",
    "\n",
    "def factorial(n):\n",
    "    result = 1\n",
    "    for i in range(2, n+1):\n",
    "        result *= i\n",
    "    return result\n",
    "\n",
    "def pascal_triangle(n):\n",
    "    for i in range(n):\n",
    "        for space in range(n - i - 1):\n",
    "            print(\" \", end=\" \")\n",
    "        for j in range(i + 1):\n",
    "            value = factorial(i) // (factorial(j) * factorial(i - j))\n",
    "            print(value, end=\"   \")\n",
    "        print()\n",
    "\n",
    "pascal_triangle(5)"
   ]
  },
  {
   "cell_type": "code",
   "execution_count": 16,
   "id": "2bdd4d12-b9b8-4579-9525-a5f57e5c33c1",
   "metadata": {},
   "outputs": [
    {
     "name": "stdout",
     "output_type": "stream",
     "text": [
      "[19, 22]\n",
      "[43, 50]\n"
     ]
    }
   ],
   "source": [
    "#6.Write a Python program to perform multiplication of two square matrices.\n",
    "\n",
    "def multiply_matrices(A, B):\n",
    "    n = len(A)\n",
    "    result = [[0]*n for _ in range(n)]\n",
    "\n",
    "    for i in range(n):\n",
    "        for j in range(n):\n",
    "            for k in range(n):\n",
    "                result[i][j] += A[i][k] * B[k][j]\n",
    "    return result\n",
    "    \n",
    "A = [[1, 2], [3, 4]]\n",
    "B = [[5, 6], [7, 8]]\n",
    "output = multiply_matrices(A, B)\n",
    "for row in output:\n",
    "    print(row)"
   ]
  },
  {
   "cell_type": "code",
   "execution_count": 17,
   "id": "d08954eb-e765-4fe6-a4ed-125fcc1267bc",
   "metadata": {},
   "outputs": [
    {
     "name": "stdout",
     "output_type": "stream",
     "text": [
      "5.0\n"
     ]
    }
   ],
   "source": [
    "#7. Given coordinates (x1, y1), (x2, y2), find the distance between two points.\n",
    "\n",
    "def distance(x1, y1, x2, y2):\n",
    "    dx = x2 - x1\n",
    "    dy = y2 - y1\n",
    "    return ((dx*dx) + (dy*dy))**0.5\n",
    "\n",
    "print(distance(1, 2, 4, 6))"
   ]
  },
  {
   "cell_type": "code",
   "execution_count": 18,
   "id": "3b351128-8ce8-422e-83c6-f8b601bf8c3d",
   "metadata": {},
   "outputs": [
    {
     "name": "stdout",
     "output_type": "stream",
     "text": [
      "Special character\n",
      "Uppercase character\n"
     ]
    }
   ],
   "source": [
    "#8.Write a program to check whether the given input is a digit, lowercase character, uppercase\n",
    "character, or special character (use 'if-else-if' ladder)\n",
    "\n",
    "def check_char(ch):\n",
    "    if '0' <= ch <= '9':\n",
    "        return \"Digit\"\n",
    "    elif 'a' <= ch <= 'z':\n",
    "        return \"Lowercase character\"\n",
    "    elif 'A' <= ch <= 'Z':\n",
    "        return \"Uppercase character\"\n",
    "    else:\n",
    "        return \"Special character\"\n",
    "\n",
    "print(check_char('@'))\n",
    "print(check_char('F'))"
   ]
  },
  {
   "cell_type": "code",
   "execution_count": 19,
   "id": "5dff8eda-82b9-4e50-abc7-207dc34d459b",
   "metadata": {},
   "outputs": [
    {
     "name": "stdout",
     "output_type": "stream",
     "text": [
      "True\n"
     ]
    }
   ],
   "source": [
    "#9.Write a function called has_duplicates that takes a list and returns True if any element appears\n",
    "more than once.\n",
    "\n",
    "def has_duplicates(lst):\n",
    "    for i in range(len(lst)):\n",
    "        for j in range(i+1, len(lst)):\n",
    "            if lst[i] == lst[j]:\n",
    "                return True\n",
    "    return False\n",
    "\n",
    "print(has_duplicates([1, 2, 3, 4, 2]))"
   ]
  },
  {
   "cell_type": "code",
   "execution_count": 20,
   "id": "8b36d7b6-9e29-4e44-9e1d-f2bfc7b2bd63",
   "metadata": {},
   "outputs": [
    {
     "name": "stdout",
     "output_type": "stream",
     "text": [
      "[1, 4, 9, 16, 25]\n"
     ]
    }
   ],
   "source": [
    "#10. Square all numbers in a list using list comprehension.\n",
    "\n",
    "numbers = [1, 2, 3, 4, 5]\n",
    "squares = [x * x for x in numbers]\n",
    "print(squares)"
   ]
  },
  {
   "cell_type": "code",
   "execution_count": 21,
   "id": "2d985f3b-2f46-4f19-9c01-7f7066fce84f",
   "metadata": {},
   "outputs": [
    {
     "name": "stdout",
     "output_type": "stream",
     "text": [
      "12\n"
     ]
    }
   ],
   "source": [
    "#11. Find the maximum number in a list without using max().\n",
    "\n",
    "def find_max(lst):\n",
    "    if not lst:\n",
    "        return None\n",
    "    max_val = lst[0]\n",
    "    for num in lst:\n",
    "        if num > max_val:\n",
    "            max_val = num\n",
    "    return max_val\n",
    "\n",
    "print(find_max([4, 9, 1, 12, 7]))"
   ]
  },
  {
   "cell_type": "code",
   "execution_count": 22,
   "id": "f0c96e1e-7b54-452b-8358-b246ae3b9723",
   "metadata": {},
   "outputs": [
    {
     "name": "stdout",
     "output_type": "stream",
     "text": [
      "[2, 4, 6]\n"
     ]
    }
   ],
   "source": [
    "#12.Given a list of numbers, use list comprehension to create a new list containing only the even\n",
    "numbers.\n",
    "\n",
    "numbers = [1, 2, 3, 4, 5, 6]\n",
    "evens = [x for x in numbers if x % 2 == 0]\n",
    "print(evens)"
   ]
  },
  {
   "cell_type": "code",
   "execution_count": 42,
   "id": "3b6da1e8-30bd-473f-a349-884f2b064156",
   "metadata": {},
   "outputs": [
    {
     "name": "stdin",
     "output_type": "stream",
     "text": [
      "Enter a number (0 to finish):  10\n",
      "Enter a number (0 to finish):  5\n",
      "Enter a number (0 to finish):  7\n",
      "Enter a number (0 to finish):  0\n"
     ]
    },
    {
     "name": "stdout",
     "output_type": "stream",
     "text": [
      "\n",
      "--- Statistics ---\n",
      "Sum: 22.0\n",
      "Average: 7.333333333333333\n",
      "Maximum: 10.0\n",
      "Minimum: 5.0\n",
      "Standard Deviation: 2.0548046676563256\n"
     ]
    }
   ],
   "source": [
    "#13. Write a program that keeps taking numbers from the user until they enter 0, then prints the total sum, average, maximum, minimum, and standard deviation.\n",
    "\n",
    "import math\n",
    "\n",
    "def get_statistics():\n",
    "    numbers = []\n",
    "\n",
    "    while True:\n",
    "        num = float(input(\"Enter a number (0 to finish): \"))\n",
    "        if num == 0:\n",
    "            break\n",
    "        numbers.append(num)\n",
    "\n",
    "    if not numbers:\n",
    "        print(\"No numbers entered.\")\n",
    "        return\n",
    "\n",
    "    # Sum\n",
    "    total = 0\n",
    "    for n in numbers:\n",
    "        total += n\n",
    "\n",
    "    # Min and Max\n",
    "    minimum = numbers[0]\n",
    "    maximum = numbers[0]\n",
    "    for n in numbers:\n",
    "        if n < minimum:\n",
    "            minimum = n\n",
    "        if n > maximum:\n",
    "            maximum = n\n",
    "\n",
    "    # Average\n",
    "    avg = total / len(numbers)\n",
    "\n",
    "    # Standard Deviation\n",
    "    variance = 0\n",
    "    for n in numbers:\n",
    "        variance += (n - avg) ** 2\n",
    "    variance /= len(numbers)\n",
    "    std_dev = math.sqrt(variance)\n",
    "\n",
    "    print(\"\\n--- Statistics ---\")\n",
    "    print(\"Sum:\", total)\n",
    "    print(\"Average:\", avg)\n",
    "    print(\"Maximum:\", maximum)\n",
    "    print(\"Minimum:\", minimum)\n",
    "    print(\"Standard Deviation:\", std_dev)\n",
    "\n",
    "get_statistics()"
   ]
  },
  {
   "cell_type": "code",
   "execution_count": 44,
   "id": "9f080728-e709-42ad-b633-6277f28b9299",
   "metadata": {},
   "outputs": [
    {
     "name": "stdout",
     "output_type": "stream",
     "text": [
      "False\n",
      "True\n"
     ]
    }
   ],
   "source": [
    "#14.Write a function called has_duplicates that takes a list and returns True if any element appears\n",
    "more than once.\n",
    "\n",
    "def has_duplicates(lst):\n",
    "    for i in range(len(lst)):\n",
    "        for j in range(i + 1, len(lst)):\n",
    "            if lst[i] == lst[j]:\n",
    "                return True\n",
    "    return False\n",
    "print(has_duplicates([1, 2, 3, 4]))       \n",
    "print(has_duplicates([1, 2, 3, 2, 5])) "
   ]
  },
  {
   "cell_type": "code",
   "execution_count": 45,
   "id": "17e90807-f61d-4a48-b9ea-13bb73b45478",
   "metadata": {},
   "outputs": [
    {
     "name": "stdout",
     "output_type": "stream",
     "text": [
      "Squared: [1, 4, 9, 16, 25]\n"
     ]
    }
   ],
   "source": [
    "#15. Square all numbers in a list using list comprehension.\n",
    "\n",
    "numbers = [1, 2, 3, 4, 5]\n",
    "squares = [x * x for x in numbers]\n",
    "print(\"Squared:\", squares)"
   ]
  },
  {
   "cell_type": "code",
   "execution_count": 29,
   "id": "35643e35-c44f-4bf7-abbc-d03c277aa747",
   "metadata": {},
   "outputs": [
    {
     "name": "stdout",
     "output_type": "stream",
     "text": [
      "Even: [2, 4, 6]\n",
      "Odd: [1, 3, 5]\n"
     ]
    }
   ],
   "source": [
    "#16.Find the odd, even number in a list.\n",
    "\n",
    "lst = [1, 2, 3, 4, 5, 6]\n",
    "evens = [x for x in lst if x % 2 == 0]\n",
    "odds = [x for x in lst if x % 2 != 0]\n",
    "print(\"Even:\", evens)\n",
    "print(\"Odd:\", odds)"
   ]
  },
  {
   "cell_type": "code",
   "execution_count": 36,
   "id": "9dd64471-5873-45a5-aa80-257d419f1587",
   "metadata": {},
   "outputs": [
    {
     "name": "stdout",
     "output_type": "stream",
     "text": [
      "[2, 4, 6]\n"
     ]
    }
   ],
   "source": [
    "#17.Given a list of numbers, use list comprehension to create a new list containing only the even\n",
    "numbers.\n",
    "\n",
    "numbers = [1, 2, 3, 4, 5, 6]\n",
    "evens = [x for x in numbers if x % 2 == 0]\n",
    "print(evens)"
   ]
  },
  {
   "cell_type": "code",
   "execution_count": 46,
   "id": "cca85c32-090f-4b93-bb1a-63db3aa00ccf",
   "metadata": {},
   "outputs": [
    {
     "name": "stdin",
     "output_type": "stream",
     "text": [
      "Enter a number (0 to finish):  10\n",
      "Enter a number (0 to finish):  5\n",
      "Enter a number (0 to finish):  7\n",
      "Enter a number (0 to finish):  0\n"
     ]
    },
    {
     "name": "stdout",
     "output_type": "stream",
     "text": [
      "\n",
      "--- Statistics ---\n",
      "Sum: 22.0\n",
      "Average: 7.333333333333333\n",
      "Maximum: 10.0\n",
      "Minimum: 5.0\n",
      "Standard Deviation: 2.0548046676563256\n"
     ]
    }
   ],
   "source": [
    "#18.Write a program that keeps taking numbers from the user until they enter 0, then prints the total\n",
    "sum, average, maximum, minimum, and standard deviation.\n",
    "\n",
    "import math\n",
    "\n",
    "def get_statistics():\n",
    "    numbers = []\n",
    "\n",
    "    while True:\n",
    "        num = float(input(\"Enter a number (0 to finish): \"))\n",
    "        if num == 0:\n",
    "            break\n",
    "        numbers.append(num)\n",
    "\n",
    "    if not numbers:\n",
    "        print(\"No numbers entered.\")\n",
    "        return\n",
    "\n",
    "    # Sum\n",
    "    total = 0\n",
    "    for n in numbers:\n",
    "        total += n\n",
    "\n",
    "    # Min and Max\n",
    "    minimum = numbers[0]\n",
    "    maximum = numbers[0]\n",
    "    for n in numbers:\n",
    "        if n < minimum:\n",
    "            minimum = n\n",
    "        if n > maximum:\n",
    "            maximum = n\n",
    "\n",
    "    # Average\n",
    "    avg = total / len(numbers)\n",
    "\n",
    "    # Standard Deviation\n",
    "    variance = 0\n",
    "    for n in numbers:\n",
    "        variance += (n - avg) ** 2\n",
    "    variance /= len(numbers)\n",
    "    std_dev = math.sqrt(variance)\n",
    "\n",
    "    print(\"\\n--- Statistics ---\")\n",
    "    print(\"Sum:\", total)\n",
    "    print(\"Average:\", avg)\n",
    "    print(\"Maximum:\", maximum)\n",
    "    print(\"Minimum:\", minimum)\n",
    "    print(\"Standard Deviation:\", std_dev)\n",
    "\n",
    "get_statistics()"
   ]
  },
  {
   "cell_type": "code",
   "execution_count": 39,
   "id": "a89c0830-6873-42af-bf5f-156de8d00b67",
   "metadata": {},
   "outputs": [
    {
     "name": "stdout",
     "output_type": "stream",
     "text": [
      "{'apple': 3, 'banana': 2, 'orange': 1}\n"
     ]
    }
   ],
   "source": [
    "#19.Given a list of words, how can you count the frequency of each word using a dictionary?\n",
    "\n",
    "def word_frequency(words):\n",
    "    freq = {}\n",
    "    for word in words:\n",
    "        if word in freq:\n",
    "            freq[word] += 1\n",
    "        else:\n",
    "            freq[word] = 1\n",
    "    return freq\n",
    "\n",
    "words = [\"apple\", \"banana\", \"apple\", \"orange\", \"banana\", \"apple\"]\n",
    "print(word_frequency(words))"
   ]
  },
  {
   "cell_type": "code",
   "execution_count": 33,
   "id": "72d19ce3-a0d8-47db-9398-cde52d8d30a4",
   "metadata": {},
   "outputs": [
    {
     "name": "stdout",
     "output_type": "stream",
     "text": [
      "85\n"
     ]
    }
   ],
   "source": [
    "#20.Given a nested dictionary student = {'name': 'John', 'grades': {'math': 90, 'science': 85}}, how\n",
    "would you access John's science grade?\n",
    "\n",
    "student = {'name': 'John', 'grades': {'math': 90, 'science': 85}}\n",
    "print(student['grades']['science'])"
   ]
  },
  {
   "cell_type": "code",
   "execution_count": 47,
   "id": "cfe6e997-6a88-41a7-a6a2-ffefa95e576f",
   "metadata": {},
   "outputs": [
    {
     "name": "stdout",
     "output_type": "stream",
     "text": [
      "True\n",
      "False\n"
     ]
    }
   ],
   "source": [
    "#21.Validate credit card numbers (16 digits, may have hyphens or spaces as separators, must start\n",
    "with 4, 5, or 6).\n",
    "\n",
    "import re\n",
    "\n",
    "def is_valid_card(card_num):\n",
    "    pattern = r'^[4-6]\\d{3}([ -]?\\d{4}){3}$'\n",
    "\n",
    "    if not re.fullmatch(pattern, card_num):\n",
    "        return False\n",
    "\n",
    "    digits_only = re.sub(r'[^0-9]', '', card_num)\n",
    "    if len(digits_only) != 16:\n",
    "        return False\n",
    "\n",
    "    return True\n",
    "\n",
    "print(is_valid_card(\"4556-7890-1234-5678\")) \n",
    "print(is_valid_card(\"5566 7788 9900 123\"))"
   ]
  },
  {
   "cell_type": "code",
   "execution_count": 48,
   "id": "fe7af778-665d-476d-b7b7-44e09ae0f290",
   "metadata": {},
   "outputs": [
    {
     "name": "stdout",
     "output_type": "stream",
     "text": [
      "True\n",
      "False\n"
     ]
    }
   ],
   "source": [
    "#22.Write a regular expression to represent all 10-digit mobile numbers.\n",
    "\n",
    "import re\n",
    "\n",
    "pattern = r'^[6-9]\\d{9}$'\n",
    "\n",
    "print(bool(re.match(pattern, \"9876543210\"))) \n",
    "print(bool(re.match(pattern, \"1234567890\")))  "
   ]
  },
  {
   "cell_type": "code",
   "execution_count": 49,
   "id": "e34ed41e-21a3-4ca0-85f3-e98b315a2e75",
   "metadata": {},
   "outputs": [
    {
     "name": "stdout",
     "output_type": "stream",
     "text": [
      "Hello World2025\n"
     ]
    }
   ],
   "source": [
    "#23.How do you use re.sub() to remove all special characters from a string, leaving only\n",
    "alphanumeric and spaces?\n",
    "\n",
    "import re\n",
    "\n",
    "text = \"Hello!@# World_2025!!\"\n",
    "cleaned = re.sub(r'[^A-Za-z0-9 ]', '', text)\n",
    "print(cleaned)"
   ]
  },
  {
   "cell_type": "code",
   "execution_count": 50,
   "id": "c8545eb8-72f2-4322-9bab-c9f1306fac8f",
   "metadata": {},
   "outputs": [
    {
     "name": "stdout",
     "output_type": "stream",
     "text": [
      "Area: 15\n",
      "Perimeter: 16\n"
     ]
    }
   ],
   "source": [
    "#24. How do you define a class Rectangle with methods to compute area and perimeter, and use it\n",
    "with sample inputs?\n",
    "\n",
    "class Rectangle:\n",
    "    def __init__(self, length, width):\n",
    "        self.length = length\n",
    "        self.width = width\n",
    "\n",
    "    def area(self):\n",
    "        return self.length * self.width\n",
    "\n",
    "    def perimeter(self):\n",
    "        return 2 * (self.length + self.width)\n",
    "\n",
    "r = Rectangle(5, 3)\n",
    "print(\"Area:\", r.area())         \n",
    "print(\"Perimeter:\", r.perimeter())"
   ]
  },
  {
   "cell_type": "code",
   "execution_count": 51,
   "id": "6bc8c009-48b4-487d-83a7-b7e2bf746e89",
   "metadata": {},
   "outputs": [
    {
     "name": "stdout",
     "output_type": "stream",
     "text": [
      "Insufficient funds!\n",
      "Balance: 1300\n"
     ]
    }
   ],
   "source": [
    "#25. Write a class BankAccount with deposit() and withdraw() methods. How do you prevent the balance from going negative?\n",
    "\n",
    "class BankAccount:\n",
    "    def __init__(self, balance=0):\n",
    "        self.balance = balance\n",
    "\n",
    "    def deposit(self, amount):\n",
    "        if amount > 0:\n",
    "            self.balance += amount\n",
    "\n",
    "    def withdraw(self, amount):\n",
    "        if 0 < amount <= self.balance:\n",
    "            self.balance -= amount\n",
    "        else:\n",
    "            print(\"Insufficient funds!\")\n",
    "\n",
    "    def get_balance(self):\n",
    "        return self.balance\n",
    "acc = BankAccount(1000)\n",
    "acc.deposit(500)\n",
    "acc.withdraw(200)\n",
    "acc.withdraw(2000) \n",
    "print(\"Balance:\", acc.get_balance())"
   ]
  },
  {
   "cell_type": "code",
   "execution_count": null,
   "id": "93529d58-d7c4-4cb4-a0f2-ba38f86c34c8",
   "metadata": {},
   "outputs": [],
   "source": []
  }
 ],
 "metadata": {
  "kernelspec": {
   "display_name": "Python 3 (ipykernel)",
   "language": "python",
   "name": "python3"
  },
  "language_info": {
   "codemirror_mode": {
    "name": "ipython",
    "version": 3
   },
   "file_extension": ".py",
   "mimetype": "text/x-python",
   "name": "python",
   "nbconvert_exporter": "python",
   "pygments_lexer": "ipython3",
   "version": "3.12.7"
  }
 },
 "nbformat": 4,
 "nbformat_minor": 5
}
